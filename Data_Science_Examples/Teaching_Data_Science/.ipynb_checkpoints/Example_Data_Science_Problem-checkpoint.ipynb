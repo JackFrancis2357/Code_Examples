{
 "cells": [
  {
   "cell_type": "markdown",
   "metadata": {},
   "source": [
    "## Example Data Science Problem -- Survivability on the Titanic\n",
    "\n",
    "To demonstrate a data science workflow from start to end I am using a well-known dataset that can be found here: https://www.kaggle.com/c/titanic/overview\n",
    "\n",
    "The dataset provides information about passengers on the Titanic and the objective is to predict whether the passenger survived. Unlike many problems that you will encounter in research, this problem has a defined testing set. A test set is used to test your machine learning model performance. Generally, you will fit your machine learning model to a training set and then make predictions on a test set to see how well the model performs. The idea behind this is to ensure your model does not overfit to the training data and is generalizable to new unseen data. \n",
    "\n",
    "Let's begin by importing packages and reading in the data"
   ]
  },
  {
   "cell_type": "code",
   "execution_count": 1,
   "metadata": {},
   "outputs": [],
   "source": [
    "import numpy as np\n",
    "import pandas as pd\n",
    "import matplotlib.pyplot as plt\n",
    "\n",
    "# Going to test the performance of a few types of models\n",
    "from sklearn.linear_model import LogisticRegression\n",
    "from sklearn.svm import SVC\n",
    "from sklearn.tree import DecisionTreeClassifier\n",
    "\n",
    "# Need some metrics and preprocessing\n",
    "from sklearn.model_selection import train_test_split\n",
    "from sklearn.metrics import accuracy_score\n",
    "from sklearn.preprocessing import StandardScaler"
   ]
  },
  {
   "cell_type": "code",
   "execution_count": 2,
   "metadata": {},
   "outputs": [],
   "source": [
    "train_df = pd.read_csv(\"Titanic_train.csv\")\n",
    "test_df = pd.read_csv(\"Titanic_test.csv\")"
   ]
  },
  {
   "cell_type": "code",
   "execution_count": 3,
   "metadata": {},
   "outputs": [
    {
     "name": "stdout",
     "output_type": "stream",
     "text": [
      "   PassengerId  Survived  Pclass  \\\n",
      "0            1         0       3   \n",
      "1            2         1       1   \n",
      "2            3         1       3   \n",
      "3            4         1       1   \n",
      "4            5         0       3   \n",
      "\n",
      "                                                Name     Sex   Age  SibSp  \\\n",
      "0                            Braund, Mr. Owen Harris    male  22.0      1   \n",
      "1  Cumings, Mrs. John Bradley (Florence Briggs Th...  female  38.0      1   \n",
      "2                             Heikkinen, Miss. Laina  female  26.0      0   \n",
      "3       Futrelle, Mrs. Jacques Heath (Lily May Peel)  female  35.0      1   \n",
      "4                           Allen, Mr. William Henry    male  35.0      0   \n",
      "\n",
      "   Parch            Ticket     Fare Cabin Embarked  \n",
      "0      0         A/5 21171   7.2500   NaN        S  \n",
      "1      0          PC 17599  71.2833   C85        C  \n",
      "2      0  STON/O2. 3101282   7.9250   NaN        S  \n",
      "3      0            113803  53.1000  C123        S  \n",
      "4      0            373450   8.0500   NaN        S  \n"
     ]
    }
   ],
   "source": [
    "print(train_df.head())"
   ]
  },
  {
   "cell_type": "code",
   "execution_count": 4,
   "metadata": {},
   "outputs": [
    {
     "name": "stdout",
     "output_type": "stream",
     "text": [
      "   PassengerId  Pclass                                          Name     Sex  \\\n",
      "0          892       3                              Kelly, Mr. James    male   \n",
      "1          893       3              Wilkes, Mrs. James (Ellen Needs)  female   \n",
      "2          894       2                     Myles, Mr. Thomas Francis    male   \n",
      "3          895       3                              Wirz, Mr. Albert    male   \n",
      "4          896       3  Hirvonen, Mrs. Alexander (Helga E Lindqvist)  female   \n",
      "\n",
      "    Age  SibSp  Parch   Ticket     Fare Cabin Embarked  \n",
      "0  34.5      0      0   330911   7.8292   NaN        Q  \n",
      "1  47.0      1      0   363272   7.0000   NaN        S  \n",
      "2  62.0      0      0   240276   9.6875   NaN        Q  \n",
      "3  27.0      0      0   315154   8.6625   NaN        S  \n",
      "4  22.0      1      1  3101298  12.2875   NaN        S  \n"
     ]
    }
   ],
   "source": [
    "# If we print the test df, you will see that there is not a column for \"survived\"\n",
    "print(test_df.head())"
   ]
  },
  {
   "cell_type": "markdown",
   "metadata": {},
   "source": [
    "Here is a list of the variables and what they mean\n",
    "\n",
    "|Variable\t|Definition\t                                 |Key                                           |\n",
    "|---|---|---|\n",
    "|survival\t|Survival\t                                 |0 = No, 1 = Yes                               |\n",
    "|pclass     |Ticket class\t                             |1 = 1st, 2 = 2nd, 3 = 3rd                     |\n",
    "|sex\t    |Sex\t                                     |                                              |\n",
    "|Age\t    |Age in years                                |                                              |\t\n",
    "|sibsp\t    |# of siblings / spouses aboard the Titanic  |                                              |\t\n",
    "|parch\t    |# of parents / children aboard the Titanic  |                                              |\t\n",
    "|ticket\t    |Ticket number                               |                                              |\t\n",
    "|fare\t    |Passenger fare\t                             |                                              |\n",
    "|cabin\t    |Cabin number                                |                                              |\t\n",
    "|embarked\t|Port of Embarkation\t                     |C = Cherbourg, Q = Queenstown, S = Southampton| "
   ]
  },
  {
   "cell_type": "markdown",
   "metadata": {},
   "source": [
    "There are a few things that we need to do to the dataset before continuing. \n",
    "* Remove the Name column. This can lead to interesting insight, but for this example we are not going to use it\n",
    "* Convert the \"Sex\" column to numeric data. ML models can't directly handle text data. \n",
    "* Fill in missing data in the Age column.\n",
    "* Remove the Cabin column which has mostly missing data. \n",
    "* Remove the Ticket column which has a mix of numeric and text data\n",
    "* Convert the \"Embarked\" column to numeric data.\n",
    "\n",
    "These steps will have to be applied to the test data as well, so let's use a function to do this. "
   ]
  },
  {
   "cell_type": "code",
   "execution_count": 5,
   "metadata": {},
   "outputs": [],
   "source": [
    "# Data Preprocessing\n",
    "def preprocess_data(df):\n",
    "    df = df.drop(['Name', 'Cabin', 'Ticket'], axis=1)\n",
    "    df['Sex'] = df['Sex'].replace('male', 0)\n",
    "    df['Sex'] = df['Sex'].replace('female', 1)\n",
    "    df['Embarked'] = df['Embarked'].replace('S', 0)\n",
    "    df['Embarked'] = df['Embarked'].replace('C', 1)\n",
    "    df['Embarked'] = df['Embarked'].replace('Q', 2)\n",
    "    df['Embarked'] = df['Embarked'].fillna(0)\n",
    "    df['Fare'] = df['Fare'].fillna(np.mean(df['Fare']))\n",
    "    mean_age = np.mean(df['Age'])\n",
    "    df['Age'] = df['Age'].fillna(mean_age)\n",
    "    return df"
   ]
  },
  {
   "cell_type": "code",
   "execution_count": 6,
   "metadata": {},
   "outputs": [
    {
     "name": "stdout",
     "output_type": "stream",
     "text": [
      "        PassengerId    Survived      Pclass  \\\n",
      "count    891.000000  891.000000  891.000000   \n",
      "unique          NaN         NaN         NaN   \n",
      "top             NaN         NaN         NaN   \n",
      "freq            NaN         NaN         NaN   \n",
      "mean     446.000000    0.383838    2.308642   \n",
      "std      257.353842    0.486592    0.836071   \n",
      "min        1.000000    0.000000    1.000000   \n",
      "25%      223.500000    0.000000    2.000000   \n",
      "50%      446.000000    0.000000    3.000000   \n",
      "75%      668.500000    1.000000    3.000000   \n",
      "max      891.000000    1.000000    3.000000   \n",
      "\n",
      "                                       Name   Sex         Age       SibSp  \\\n",
      "count                                   891   891  714.000000  891.000000   \n",
      "unique                                  891     2         NaN         NaN   \n",
      "top     Troutt, Miss. Edwina Celia \"Winnie\"  male         NaN         NaN   \n",
      "freq                                      1   577         NaN         NaN   \n",
      "mean                                    NaN   NaN   29.699118    0.523008   \n",
      "std                                     NaN   NaN   14.526497    1.102743   \n",
      "min                                     NaN   NaN    0.420000    0.000000   \n",
      "25%                                     NaN   NaN   20.125000    0.000000   \n",
      "50%                                     NaN   NaN   28.000000    0.000000   \n",
      "75%                                     NaN   NaN   38.000000    1.000000   \n",
      "max                                     NaN   NaN   80.000000    8.000000   \n",
      "\n",
      "             Parch Ticket        Fare        Cabin Embarked  \n",
      "count   891.000000    891  891.000000          204      889  \n",
      "unique         NaN    681         NaN          147        3  \n",
      "top            NaN   1601         NaN  C23 C25 C27        S  \n",
      "freq           NaN      7         NaN            4      644  \n",
      "mean      0.381594    NaN   32.204208          NaN      NaN  \n",
      "std       0.806057    NaN   49.693429          NaN      NaN  \n",
      "min       0.000000    NaN    0.000000          NaN      NaN  \n",
      "25%       0.000000    NaN    7.910400          NaN      NaN  \n",
      "50%       0.000000    NaN   14.454200          NaN      NaN  \n",
      "75%       0.000000    NaN   31.000000          NaN      NaN  \n",
      "max       6.000000    NaN  512.329200          NaN      NaN  \n"
     ]
    }
   ],
   "source": [
    "# Let's walk through the steps one by one and explain the rational\n",
    "print(train_df.describe(include='all'))"
   ]
  },
  {
   "cell_type": "markdown",
   "metadata": {},
   "source": [
    "First, we notice that Cabin has only 204 observations out of the 891 passengers in the dataset. This means that  almost 75% of all passengers have a missing value for Cabin. This column will probably not be helpful for us in determining whether a given individual survived the Titanic crash. \n",
    "\n",
    "```df = df.drop(['Cabin'])```\n",
    "\n",
    "Next, we see that \"Sex\" has two values (male and female). One way to change this to be numeric is to replace all male with 0 and all female with 1.\n",
    "\n",
    "```df['Sex'] = df['Sex'].replace('male', 0)```\n",
    "\n",
    "```df['Sex'] = df['Sex'].replace('female', 1)```\n",
    "\n",
    "Similarly, Embarked has 3 values (S, Q, and C), which correspond to 3 different ports that a passenger could have used to board the Titanic. Note that there are only 889 observations so for two of the passengers, their embarkment location is not recorded. To fix this, I am going to assume they embarked at the most common port. \n",
    "\n",
    "```df['Embarked'] = df['Embarked'].replace('S', 0)```\n",
    "\n",
    "```df['Embarked'] = df['Embarked'].replace('C', 1)```\n",
    "\n",
    "```df['Embarked'] = df['Embarked'].replace('Q', 2)```\n",
    "\n",
    "```df['Embarked'] = df['Embarked'].fillna(0)```\n",
    "\n",
    "The Ticket column has some information that may be helpful, but I am choosing to not use it for now. The information is a combination of text and numeric, so it is difficult to work with and not clear that it will be helpful. \n",
    "\n",
    "```df = df.drop(['Ticket'])```\n",
    "\n",
    "Similarly, the Name column has some helpful information but for this example I am dropping it.\n",
    "\n",
    "```df = df.drop(['Name'])```\n",
    "\n",
    "The Age column has about 150 missing values. To assign values to the people whose age is missing, I am going to give them the mean age for the dataset. There are many ways to make this more sophisticated (like by incorporating pclass or gender) but for this starter example I am not doing that.\n",
    "\n",
    "```mean_age = np.mean(train_df['Age'])```\n",
    "\n",
    "```df['Age'] = df['Age'].fillna(mean_age)```"
   ]
  },
  {
   "cell_type": "code",
   "execution_count": 7,
   "metadata": {},
   "outputs": [
    {
     "name": "stdout",
     "output_type": "stream",
     "text": [
      "       PassengerId    Survived      Pclass         Sex         Age  \\\n",
      "count   891.000000  891.000000  891.000000  891.000000  891.000000   \n",
      "mean    446.000000    0.383838    2.308642    0.352413   29.699118   \n",
      "std     257.353842    0.486592    0.836071    0.477990   13.002015   \n",
      "min       1.000000    0.000000    1.000000    0.000000    0.420000   \n",
      "25%     223.500000    0.000000    2.000000    0.000000   22.000000   \n",
      "50%     446.000000    0.000000    3.000000    0.000000   29.699118   \n",
      "75%     668.500000    1.000000    3.000000    1.000000   35.000000   \n",
      "max     891.000000    1.000000    3.000000    1.000000   80.000000   \n",
      "\n",
      "            SibSp       Parch        Fare    Embarked  \n",
      "count  891.000000  891.000000  891.000000  891.000000  \n",
      "mean     0.523008    0.381594   32.204208    0.361392  \n",
      "std      1.102743    0.806057   49.693429    0.635673  \n",
      "min      0.000000    0.000000    0.000000    0.000000  \n",
      "25%      0.000000    0.000000    7.910400    0.000000  \n",
      "50%      0.000000    0.000000   14.454200    0.000000  \n",
      "75%      1.000000    0.000000   31.000000    1.000000  \n",
      "max      8.000000    6.000000  512.329200    2.000000  \n"
     ]
    }
   ],
   "source": [
    "train_preprocessed_df = preprocess_data(train_df)\n",
    "print(train_preprocessed_df.describe())\n"
   ]
  },
  {
   "cell_type": "markdown",
   "metadata": {},
   "source": [
    "Now that the data has been preprocessed, let's look at some plots and statistics about the variables. Maybe there will be some interesting relationships that we can exploit when modeling"
   ]
  },
  {
   "cell_type": "code",
   "execution_count": 8,
   "metadata": {},
   "outputs": [
    {
     "data": {
      "image/png": "[encoded data removed]",
      "text/plain": [
       "<Figure size 432x288 with 1 Axes>"
      ]
     },
     "metadata": {
      "needs_background": "light"
     },
     "output_type": "display_data"
    }
   ],
   "source": [
    "# First let's plot a count of survived vs didnt survive\n",
    "plt.hist(train_preprocessed_df['Survived'])\n",
    "plt.ylabel(\"Count\")\n",
    "plt.title(f\"Number of Survivors is {np.sum(train_preprocessed_df['Survived'])} out of 891\")\n",
    "plt.xticks([0,1], ('Died', 'Survived'))\n",
    "plt.show()"
   ]
  },
  {
   "cell_type": "code",
   "execution_count": 9,
   "metadata": {},
   "outputs": [
    {
     "name": "stdout",
     "output_type": "stream",
     "text": [
      "Pclass  Survived\n",
      "1       0            80\n",
      "        1           136\n",
      "2       0            97\n",
      "        1            87\n",
      "3       0           372\n",
      "        1           119\n",
      "Name: PassengerId, dtype: int64\n"
     ]
    }
   ],
   "source": [
    "# Next, let's see if different pclass had different rates of survival\n",
    "pclass_df = train_preprocessed_df.groupby(by = ['Pclass', 'Survived']).count()\n",
    "print(pclass_df['PassengerId'])"
   ]
  },
  {
   "cell_type": "code",
   "execution_count": 10,
   "metadata": {},
   "outputs": [
    {
     "data": {
      "image/png": "[encoded data removed]",
      "text/plain": [
       "<Figure size 432x288 with 1 Axes>"
      ]
     },
     "metadata": {
      "needs_background": "light"
     },
     "output_type": "display_data"
    }
   ],
   "source": [
    "# Next, let's see if different genders had different rates of survival\n",
    "# Remember Male is 0 and Female is 1\n",
    "pclass_df = train_preprocessed_df.loc[:, ['Pclass', 'Survived']]\n",
    "survives = pclass_df.Survived.unique()\n",
    "plt.hist([pclass_df.loc[pclass_df.Survived == x, 'Pclass'] for x in survives], label=survives)\n",
    "mylabels = ['Died', 'Survived']\n",
    "plt.legend(labels = mylabels)\n",
    "plt.xticks([1,2,3], ('1', '2','3'))\n",
    "plt.xlabel(\"Pclass\")\n",
    "plt.show()"
   ]
  },
  {
   "cell_type": "markdown",
   "metadata": {},
   "source": [
    "One thing we can note is that 1st class passengers were more likely to survive than die. Second class passengers were about equally as likely for either scenario. Third class passengers were significantly more likely to not survive. This is an example of a good feature to add into our model, because it correlates well with survival rate. "
   ]
  },
  {
   "cell_type": "code",
   "execution_count": 11,
   "metadata": {},
   "outputs": [
    {
     "data": {
      "image/png": "[encoded data removed]",
      "text/plain": [
       "<Figure size 432x288 with 1 Axes>"
      ]
     },
     "metadata": {
      "needs_background": "light"
     },
     "output_type": "display_data"
    }
   ],
   "source": [
    "# Next, let's see if different genders had different rates of survival\n",
    "# Remember Male is 0 and Female is 1\n",
    "sex_df = train_preprocessed_df.loc[:, ['Sex', 'Survived']]\n",
    "survives = sex_df.Survived.unique()\n",
    "plt.hist([sex_df.loc[sex_df.Survived == x, 'Sex'] for x in survives], label=survives)\n",
    "mylabels = ['Died', 'Survived']\n",
    "plt.legend(labels = mylabels)\n",
    "plt.xticks([0,1], ('Male', 'Female'))\n",
    "plt.xlabel(\"Gender\")\n",
    "plt.show()"
   ]
  },
  {
   "cell_type": "markdown",
   "metadata": {},
   "source": [
    "We see that females were much more likely to survive the Titanic than males. This is another good feature to add into our model. \n",
    "\n",
    "Next, let's look at how age is related to survival. Remember that we assigned the average age to over 150 people, so we shouldn't draw conclusions from that. "
   ]
  },
  {
   "cell_type": "code",
   "execution_count": 12,
   "metadata": {},
   "outputs": [
    {
     "data": {
      "image/png": "[encoded data removed]",
      "text/plain": [
       "<Figure size 432x288 with 1 Axes>"
      ]
     },
     "metadata": {
      "needs_background": "light"
     },
     "output_type": "display_data"
    }
   ],
   "source": [
    "age_df = train_preprocessed_df.loc[:, ['Age', 'Survived']]\n",
    "survives = age_df.Survived.unique()\n",
    "plt.hist([age_df.loc[age_df.Survived == x, 'Age'] for x in survives], label=survives)\n",
    "mylabels = ['Died', 'Survived']\n",
    "plt.legend(labels = mylabels)\n",
    "plt.xlabel(\"Age\")\n",
    "plt.show()"
   ]
  },
  {
   "cell_type": "markdown",
   "metadata": {},
   "source": [
    "We see that only children under the age of 10 were more likely to survive than die for their age group. There is a big spike around 30, but this corresponds to our imputation of ages that were missing. \n",
    "\n",
    "Let's do the same analysis for fare cost."
   ]
  },
  {
   "cell_type": "code",
   "execution_count": 13,
   "metadata": {},
   "outputs": [
    {
     "data": {
      "image/png": "[encoded data removed]",
      "text/plain": [
       "<Figure size 432x288 with 1 Axes>"
      ]
     },
     "metadata": {
      "needs_background": "light"
     },
     "output_type": "display_data"
    }
   ],
   "source": [
    "fare_df = train_preprocessed_df.loc[:, ['Fare', 'Survived']]\n",
    "survives = fare_df.Survived.unique()\n",
    "plt.hist([fare_df.loc[fare_df.Survived == x, 'Fare'] for x in survives], label=survives)\n",
    "mylabels = ['Died', 'Survived']\n",
    "plt.legend(labels = mylabels)\n",
    "plt.xlabel(\"Fare Cost\")\n",
    "plt.show()"
   ]
  },
  {
   "cell_type": "markdown",
   "metadata": {},
   "source": [
    "As the fare price increases, the likelihood of survival increases as well. This variable is probably correlated with the pclass variable, because first class fares are going to be higher than second or third class fares. The above plot is not so clear for fares less than $100, so let's look at those specifically to see if there are any other trends."
   ]
  },
  {
   "cell_type": "code",
   "execution_count": 14,
   "metadata": {},
   "outputs": [
    {
     "data": {
      "image/png": "[encoded data removed]",
      "text/plain": [
       "<Figure size 432x288 with 1 Axes>"
      ]
     },
     "metadata": {
      "needs_background": "light"
     },
     "output_type": "display_data"
    }
   ],
   "source": [
    "fare_df = train_preprocessed_df.loc[:, ['Fare', 'Survived']]\n",
    "fare_df = fare_df[fare_df[\"Fare\"] < 100]\n",
    "survives = fare_df.Survived.unique()\n",
    "plt.hist([fare_df.loc[fare_df.Survived == x, 'Fare'] for x in survives], label=survives)\n",
    "mylabels = ['Died', 'Survived']\n",
    "plt.legend(labels = mylabels)\n",
    "plt.xlabel(\"Fare Cost\")\n",
    "plt.show()"
   ]
  },
  {
   "cell_type": "markdown",
   "metadata": {},
   "source": [
    "Not much new information, but it does seem if your fare was over 20 you had at least a 50\\% chance of surviving. If you had a fare less than 10 you were likely to die.\n",
    "\n",
    "Next, let's look at embarking locations. "
   ]
  },
  {
   "cell_type": "code",
   "execution_count": 15,
   "metadata": {},
   "outputs": [
    {
     "data": {
      "image/png": "[encoded data removed]",
      "text/plain": [
       "<Figure size 432x288 with 1 Axes>"
      ]
     },
     "metadata": {
      "needs_background": "light"
     },
     "output_type": "display_data"
    }
   ],
   "source": [
    "embark_df = train_preprocessed_df.loc[:, ['Embarked', 'Survived']]\n",
    "survives = fare_df.Survived.unique()\n",
    "plt.hist([embark_df.loc[embark_df.Survived == x, 'Embarked'] for x in survives], label=survives)\n",
    "mylabels = ['Died', 'Survived']\n",
    "plt.legend(labels = mylabels)\n",
    "plt.xticks([0,1,2], ('Southampton', 'Cherbourg', 'Queenstown'))\n",
    "plt.xlabel(\"Port\")\n",
    "plt.show()"
   ]
  },
  {
   "cell_type": "markdown",
   "metadata": {},
   "source": [
    "It seems that more first class or women got on in Cherbourg, while 2nd/3rd class or males got on in Southampton. This is not a very helpful variable, so it is one to potentially remove during modeling. \n",
    "\n",
    "Next, let's look at sibsp, which is the number of siblings/spouses of the passenger aboard "
   ]
  },
  {
   "cell_type": "code",
   "execution_count": 16,
   "metadata": {},
   "outputs": [
    {
     "data": {
      "image/png": "[encoded data removed]",
      "text/plain": [
       "<Figure size 432x288 with 1 Axes>"
      ]
     },
     "metadata": {
      "needs_background": "light"
     },
     "output_type": "display_data"
    }
   ],
   "source": [
    "sibsp_df = train_preprocessed_df.loc[:, ['SibSp', 'Survived']]\n",
    "survives = fare_df.Survived.unique()\n",
    "plt.hist([sibsp_df.loc[sibsp_df.Survived == x, 'SibSp'] for x in survives], label=survives)\n",
    "mylabels = ['Died', 'Survived']\n",
    "plt.legend(labels = mylabels)\n",
    "plt.xlabel(\"SibSp\")\n",
    "plt.show()"
   ]
  },
  {
   "cell_type": "markdown",
   "metadata": {},
   "source": [
    "If the person was traveling alone then it was more likely for them to die. However, if they only had 1 sibiling/spouse their survival odds were about 50%.\n",
    "\n",
    "Finally, lets look at parch which is the number of parents/child relative to the passenger aboard the Titanic"
   ]
  },
  {
   "cell_type": "code",
   "execution_count": 17,
   "metadata": {},
   "outputs": [
    {
     "data": {
      "image/png": "[encoded data removed]",
      "text/plain": [
       "<Figure size 432x288 with 1 Axes>"
      ]
     },
     "metadata": {
      "needs_background": "light"
     },
     "output_type": "display_data"
    }
   ],
   "source": [
    "parch_df = train_preprocessed_df.loc[:, ['Parch', 'Survived']]\n",
    "survives = fare_df.Survived.unique()\n",
    "plt.hist([parch_df.loc[parch_df.Survived == x, 'Parch'] for x in survives], label=survives)\n",
    "mylabels = ['Died', 'Survived']\n",
    "plt.legend(labels = mylabels)\n",
    "plt.xlabel(\"Parch\")\n",
    "plt.show()"
   ]
  },
  {
   "cell_type": "markdown",
   "metadata": {},
   "source": [
    "We see an extremely similar trend to SibSp. So while we can start with both features in our model, we may be able to just use 1 instead of both because they convey the same information"
   ]
  },
  {
   "cell_type": "markdown",
   "metadata": {},
   "source": [
    "From our brief exploration of the variables there are a few key relationships that stick out to me:\n",
    "* Females are much more likely to survive than males\n",
    "* Passengers in 1st and 2nd class are much more likely to survive than 3rd class\n",
    "* Passengers who traveled along are more likely to die (Maybe a relationhsip to 3rd class)\n",
    "* As the cost of your fare increased, your survival rate increased (Again maybe a relationship with pclass)\n",
    "* It doens't seem like age had a large influence on who died or survived"
   ]
  },
  {
   "cell_type": "markdown",
   "metadata": {},
   "source": [
    "Now let's start with the most basic model, Logistic Regression. We are going to train our model on the training data and then test its performance on the test set. We will try a few different models (i.e. different variables used as inputs)"
   ]
  },
  {
   "cell_type": "code",
   "execution_count": 18,
   "metadata": {},
   "outputs": [],
   "source": [
    "# Read in test_set_answers\n",
    "test_set_answers = pd.read_csv(\"Titanic_Answers.csv\")\n",
    "\n",
    "# Apply preprocessing to test data\n",
    "test_preprocessed_df = preprocess_data(test_df)"
   ]
  },
  {
   "cell_type": "code",
   "execution_count": 19,
   "metadata": {},
   "outputs": [],
   "source": [
    "# Break our initial train df into x_train and y_train\n",
    "feature_list = ['Pclass', 'Sex', 'Age', 'SibSp', 'Parch', 'Fare', 'Embarked']"
   ]
  },
  {
   "cell_type": "code",
   "execution_count": 20,
   "metadata": {},
   "outputs": [],
   "source": [
    "# We can change the features we use\n",
    "# The y objects have to be vectors, so add \".values\" at the end\n",
    "x_train = train_preprocessed_df.loc[:,feature_list]\n",
    "y_train = train_preprocessed_df.loc[:,'Survived'].values\n",
    "\n",
    "x_test = test_preprocessed_df.loc[:, feature_list]\n",
    "y_test = test_set_answers.loc[:, 'survived'].values"
   ]
  },
  {
   "cell_type": "code",
   "execution_count": 21,
   "metadata": {},
   "outputs": [],
   "source": [
    "from sklearn.linear_model import LogisticRegression\n",
    "from sklearn.metrics import accuracy_score"
   ]
  },
  {
   "cell_type": "code",
   "execution_count": 22,
   "metadata": {},
   "outputs": [
    {
     "name": "stdout",
     "output_type": "stream",
     "text": [
      "80.47\n"
     ]
    }
   ],
   "source": [
    "# Initialize our model\n",
    "my_lr_model = LogisticRegression(solver='lbfgs')\n",
    "\n",
    "# Fit the model to the training data\n",
    "my_lr_model.fit(x_train, y_train)\n",
    "\n",
    "# Check the accuracy of the model\n",
    "y_pred_train = my_lr_model.predict(x_train)\n",
    "training_accuracy = accuracy_score(y_pred_train, y_train)\n",
    "print(np.round(training_accuracy, 4) * 100)"
   ]
  },
  {
   "cell_type": "code",
   "execution_count": 23,
   "metadata": {},
   "outputs": [],
   "source": [
    "# Make predictions for the test set\n",
    "y_pred_test = my_lr_model.predict(x_test)"
   ]
  },
  {
   "cell_type": "code",
   "execution_count": 24,
   "metadata": {},
   "outputs": [
    {
     "name": "stdout",
     "output_type": "stream",
     "text": [
      "76.79\n"
     ]
    }
   ],
   "source": [
    "# See how accurate our predictions are\n",
    "testing_accuracy = accuracy_score(y_pred_test, y_test)\n",
    "print(np.round(testing_accuracy, 4) * 100)"
   ]
  },
  {
   "cell_type": "markdown",
   "metadata": {},
   "source": [
    "Our training accuracy and testing accuracy are very close! This is a promising sign that the model is not overfitting. Let's put all of this into a function so we can quickly test changing which input features we include in our model. "
   ]
  },
  {
   "cell_type": "code",
   "execution_count": 25,
   "metadata": {},
   "outputs": [],
   "source": [
    "def fit_titanic_data(df_train, df_test, test_ans, feat_list):\n",
    "    x_train = df_train.loc[:,feat_list]\n",
    "    y_train = df_train.loc[:,'Survived'].values\n",
    "    x_test = df_test.loc[:, feat_list]\n",
    "    y_test = test_ans.loc[:, 'survived'].values\n",
    "    my_lr_model = LogisticRegression(solver='lbfgs')\n",
    "    my_lr_model.fit(x_train, y_train)\n",
    "    y_pred_train = my_lr_model.predict(x_train)\n",
    "    training_accuracy = accuracy_score(y_pred_train, y_train)\n",
    "    print(f'Training Accuracy: {np.round(training_accuracy, 4) * 100}')\n",
    "    y_pred_test = my_lr_model.predict(x_test)\n",
    "    testing_accuracy = accuracy_score(y_pred_test, y_test)\n",
    "    print(f'Testing Accuracy: {np.round(testing_accuracy, 4) * 100}')"
   ]
  },
  {
   "cell_type": "code",
   "execution_count": 26,
   "metadata": {},
   "outputs": [
    {
     "name": "stdout",
     "output_type": "stream",
     "text": [
      "Training Accuracy: 80.47\n",
      "Testing Accuracy: 76.79\n"
     ]
    }
   ],
   "source": [
    "feature_list = ['Pclass', 'Sex', 'Age', 'SibSp', 'Parch', 'Fare', 'Embarked']\n",
    "fit_titanic_data(df_train = train_preprocessed_df,\n",
    "                 df_test = test_preprocessed_df,\n",
    "                 test_ans = test_set_answers,\n",
    "                 feat_list = feature_list)"
   ]
  },
  {
   "cell_type": "code",
   "execution_count": 27,
   "metadata": {},
   "outputs": [
    {
     "name": "stdout",
     "output_type": "stream",
     "text": [
      "Training Accuracy: 79.80000000000001\n",
      "Testing Accuracy: 77.03\n"
     ]
    }
   ],
   "source": [
    "# Let's try removing some of the variables we thought may not be important (Parch and Age)\n",
    "feature_list = ['Pclass', 'Sex', 'SibSp', 'Fare', 'Embarked']\n",
    "fit_titanic_data(df_train = train_preprocessed_df,\n",
    "                 df_test = test_preprocessed_df,\n",
    "                 test_ans = test_set_answers,\n",
    "                 feat_list = feature_list)"
   ]
  },
  {
   "cell_type": "markdown",
   "metadata": {},
   "source": [
    "We see a slight decrease in training accuracy and a slight improvement in testing accuracy. In general, a model with fewer features is preferred over a model with more features. Let's try removing some more features and see what happens. \n",
    "\n",
    "We know pclass is very important, so let's see what happens if we remove it."
   ]
  },
  {
   "cell_type": "code",
   "execution_count": 28,
   "metadata": {},
   "outputs": [
    {
     "name": "stdout",
     "output_type": "stream",
     "text": [
      "Training Accuracy: 79.01\n",
      "Testing Accuracy: 76.32\n"
     ]
    }
   ],
   "source": [
    "# Let's try removing Pclass\n",
    "feature_list = ['Sex', 'SibSp', 'Embarked', 'Fare']\n",
    "fit_titanic_data(df_train = train_preprocessed_df,\n",
    "                 df_test = test_preprocessed_df,\n",
    "                 test_ans = test_set_answers,\n",
    "                 feat_list = feature_list)"
   ]
  },
  {
   "cell_type": "markdown",
   "metadata": {},
   "source": [
    "We see a slight decrease in both training and testing accuracy, which means pclass is an important feature in the model.\n",
    "\n",
    "Let's try removing the fare, since we expect it to be highly correlated with pclass"
   ]
  },
  {
   "cell_type": "code",
   "execution_count": 29,
   "metadata": {},
   "outputs": [
    {
     "name": "stdout",
     "output_type": "stream",
     "text": [
      "Training Accuracy: 80.36\n",
      "Testing Accuracy: 77.75\n"
     ]
    }
   ],
   "source": [
    "# Let's try removing Pclass\n",
    "feature_list = ['Sex', 'SibSp', 'Embarked', 'Pclass']\n",
    "fit_titanic_data(df_train = train_preprocessed_df,\n",
    "                 df_test = test_preprocessed_df,\n",
    "                 test_ans = test_set_answers,\n",
    "                 feat_list = feature_list)"
   ]
  },
  {
   "cell_type": "markdown",
   "metadata": {},
   "source": [
    "Removing fare increase the training and testing accuracy by over a full percentage point. While we though Fare was tightly correlated with Pclass, that feature may have introduced other spurious correlations which led to reduced performance. \n",
    "\n",
    "We can try removing further features, but these will only lead to decreased accuracy. Instead, let's try applying two other types of models. "
   ]
  },
  {
   "cell_type": "code",
   "execution_count": 30,
   "metadata": {},
   "outputs": [
    {
     "name": "stdout",
     "output_type": "stream",
     "text": [
      "89.23\n"
     ]
    }
   ],
   "source": [
    "# Break our initial train df into x_train and y_train\n",
    "feature_list = ['Pclass', 'Sex', 'Age', 'SibSp', 'Parch', 'Fare', 'Embarked']\n",
    "\n",
    "x_train = train_preprocessed_df.loc[:,feature_list]\n",
    "y_train = train_preprocessed_df.loc[:,'Survived'].values\n",
    "\n",
    "x_test = test_preprocessed_df.loc[:, feature_list]\n",
    "y_test = test_set_answers.loc[:, 'survived'].values\n",
    "\n",
    "from sklearn.svm import SVC\n",
    "from sklearn.metrics import accuracy_score\n",
    "\n",
    "# Initialize our model\n",
    "my_svm_model = SVC(gamma=\"auto\")\n",
    "\n",
    "# Fit the model to the training data\n",
    "my_svm_model.fit(x_train, y_train)\n",
    "\n",
    "# Check the accuracy of the model\n",
    "y_pred_train = my_svm_model.predict(x_train)\n",
    "training_accuracy = accuracy_score(y_pred_train, y_train)\n",
    "print(np.round(training_accuracy, 4) * 100)"
   ]
  },
  {
   "cell_type": "code",
   "execution_count": 31,
   "metadata": {},
   "outputs": [
    {
     "name": "stdout",
     "output_type": "stream",
     "text": [
      "61.72\n"
     ]
    }
   ],
   "source": [
    "# Make predictions for the test set\n",
    "y_pred_test = my_svm_model.predict(x_test)\n",
    "\n",
    "# See how accurate our predictions are\n",
    "testing_accuracy = accuracy_score(y_pred_test, y_test)\n",
    "print(np.round(testing_accuracy, 4) * 100)"
   ]
  },
  {
   "cell_type": "markdown",
   "metadata": {},
   "source": [
    "This is a pretty clear example of overfitting. We have almost 90% accuracy on the training set, but when we make predictions on the test set, they are very poor. \n",
    "\n",
    "To avoid this overfitting, let's try doing some feature selection like we did with logistic regression."
   ]
  },
  {
   "cell_type": "code",
   "execution_count": 32,
   "metadata": {},
   "outputs": [],
   "source": [
    "def fit_titanic_data_svm(df_train, df_test, test_ans, feat_list):\n",
    "    x_train = df_train.loc[:,feat_list]\n",
    "    y_train = df_train.loc[:,'Survived'].values\n",
    "    x_test = df_test.loc[:, feat_list]\n",
    "    y_test = test_ans.loc[:, 'survived'].values\n",
    "    my_svm_model = SVC(gamma='auto')\n",
    "    my_svm_model.fit(x_train, y_train)\n",
    "    y_pred_train = my_svm_model.predict(x_train)\n",
    "    training_accuracy = accuracy_score(y_pred_train, y_train)\n",
    "    print(f'Training Accuracy: {np.round(training_accuracy, 4) * 100}')\n",
    "    y_pred_test = my_svm_model.predict(x_test)\n",
    "    testing_accuracy = accuracy_score(y_pred_test, y_test)\n",
    "    print(f'Testing Accuracy: {np.round(testing_accuracy, 4) * 100}')"
   ]
  },
  {
   "cell_type": "code",
   "execution_count": 33,
   "metadata": {},
   "outputs": [
    {
     "name": "stdout",
     "output_type": "stream",
     "text": [
      "Training Accuracy: 81.03\n",
      "Testing Accuracy: 77.75\n"
     ]
    }
   ],
   "source": [
    "# Lets start with the test Logistic Regression Model\n",
    "feature_list = ['Pclass', 'Sex', 'Embarked', 'SibSp']\n",
    "fit_titanic_data_svm(df_train = train_preprocessed_df,\n",
    "                     df_test = test_preprocessed_df,\n",
    "                     test_ans = test_set_answers,\n",
    "                     feat_list = feature_list)"
   ]
  },
  {
   "cell_type": "markdown",
   "metadata": {},
   "source": [
    "This immediately fixes the problem of overfitting. Our training and testing accuracy are now very close, which shows good generalization. After playing around with removing and adding features, I found the best model to be the following"
   ]
  },
  {
   "cell_type": "code",
   "execution_count": 34,
   "metadata": {},
   "outputs": [
    {
     "name": "stdout",
     "output_type": "stream",
     "text": [
      "Training Accuracy: 81.14\n",
      "Testing Accuracy: 77.99000000000001\n"
     ]
    }
   ],
   "source": [
    "# Lets start with the test Logistic Regression Model\n",
    "feature_list = ['Pclass', 'Sex', 'Embarked']\n",
    "fit_titanic_data_svm(df_train = train_preprocessed_df,\n",
    "                     df_test = test_preprocessed_df,\n",
    "                     test_ans = test_set_answers,\n",
    "                     feat_list = feature_list)"
   ]
  },
  {
   "cell_type": "markdown",
   "metadata": {},
   "source": [
    "This model is only slightly better than the Logistic Regression model, but does use fewer features. So either model would be appropriate to use.\n",
    "\n",
    "Finally, let's use decision trees. Similar to the previous ones, I am going to want to test various features so I will go ahead and make it a function"
   ]
  },
  {
   "cell_type": "code",
   "execution_count": 35,
   "metadata": {},
   "outputs": [],
   "source": [
    "def fit_titanic_data_dt(df_train, df_test, test_ans, feat_list):\n",
    "    x_train = df_train.loc[:,feat_list]\n",
    "    y_train = df_train.loc[:,'Survived'].values\n",
    "    x_test = df_test.loc[:, feat_list]\n",
    "    y_test = test_ans.loc[:, 'survived'].values\n",
    "    my_dt_model = DecisionTreeClassifier()\n",
    "    my_dt_model.fit(x_train, y_train)\n",
    "    y_pred_train = my_dt_model.predict(x_train)\n",
    "    training_accuracy = accuracy_score(y_pred_train, y_train)\n",
    "    print(f'Training Accuracy: {np.round(training_accuracy, 4) * 100}')\n",
    "    y_pred_test = my_dt_model.predict(x_test)\n",
    "    testing_accuracy = accuracy_score(y_pred_test, y_test)\n",
    "    print(f'Testing Accuracy: {np.round(testing_accuracy, 4) * 100}')"
   ]
  },
  {
   "cell_type": "code",
   "execution_count": 36,
   "metadata": {},
   "outputs": [
    {
     "name": "stdout",
     "output_type": "stream",
     "text": [
      "Training Accuracy: 98.2\n",
      "Testing Accuracy: 73.44000000000001\n"
     ]
    }
   ],
   "source": [
    "feature_list = ['Pclass', 'Sex', 'Age', 'SibSp', 'Parch', 'Fare', 'Embarked']\n",
    "fit_titanic_data_dt(df_train = train_preprocessed_df,\n",
    "                 df_test = test_preprocessed_df,\n",
    "                 test_ans = test_set_answers,\n",
    "                 feat_list = feature_list)"
   ]
  },
  {
   "cell_type": "markdown",
   "metadata": {},
   "source": [
    "Using all of the features leads to significant overfitting. Decision trees are extremly susceptible to overfitting due to their internal mechanism. Let's remove some features and see if we can improve over the previous two models."
   ]
  },
  {
   "cell_type": "code",
   "execution_count": 37,
   "metadata": {},
   "outputs": [
    {
     "name": "stdout",
     "output_type": "stream",
     "text": [
      "Training Accuracy: 81.14\n",
      "Testing Accuracy: 77.99000000000001\n"
     ]
    }
   ],
   "source": [
    "feature_list = ['Pclass', 'Sex', 'Embarked']\n",
    "fit_titanic_data_dt(df_train = train_preprocessed_df,\n",
    "                 df_test = test_preprocessed_df,\n",
    "                 test_ans = test_set_answers,\n",
    "                 feat_list = feature_list)"
   ]
  },
  {
   "cell_type": "markdown",
   "metadata": {},
   "source": [
    "Ultimately, the best model is identical to the SVC model in terms of training and testing accuracy. \n",
    "\n",
    "For all 3 of these models there are additional hyperparameters that you can tune to improve performance. However, the objective of this notebook is to demonstrate how to use these methods, not necessarily squeeze out the highest possible performance. "
   ]
  },
  {
   "cell_type": "markdown",
   "metadata": {},
   "source": [
    "Next steps:\n",
    "\n",
    "There are quite a few things you could do to potentially improve the accuracy of the models.\n",
    "* Fill in missing age values by class and gender\n",
    "* Use the name information, the titles of individuals may help improve performance\n",
    "* Use a different ML model, such as gradient boosted trees, random forests, or a neural network to potentially increase performance\n",
    "* Make new features, an example would be to have an indicator if someone is a male in 3rd class\n",
    "\n",
    "This notebook is by no means comprehensive and there are many additional ways to improve the model. However, I hope that through this notebook the idea of applying ML to a problem from start to end is more clear now. "
   ]
  },
  {
   "cell_type": "code",
   "execution_count": null,
   "metadata": {},
   "outputs": [],
   "source": []
  }
 ],
 "metadata": {
  "kernelspec": {
   "display_name": "Python 3",
   "language": "python",
   "name": "python3"
  },
  "language_info": {
   "codemirror_mode": {
    "name": "ipython",
    "version": 3
   },
   "file_extension": ".py",
   "mimetype": "text/x-python",
   "name": "python",
   "nbconvert_exporter": "python",
   "pygments_lexer": "ipython3",
   "version": "3.7.4"
  }
 },
 "nbformat": 4,
 "nbformat_minor": 2
}
