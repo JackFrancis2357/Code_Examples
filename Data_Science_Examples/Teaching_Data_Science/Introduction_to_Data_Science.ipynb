{
 "cells": [
  {
   "cell_type": "markdown",
   "metadata": {},
   "source": [
    "## Introduction to Data Science in Python\n",
    "\n",
    "For this tutorial, we will go over numpy, pandas, matplotlib, and scikit-learn, which are the most popular Python packages for Data Science and Machine Learning.\n",
    "\n",
    "* Numpy: Linear Algebra package that performs mathematical operations on arrays\n",
    "* Pandas: Data processing package that is useful for reading in and manipulating data in a dataframe format\n",
    "* Matplotlib: Plotting package for creating data visualizations\n",
    "* Scikit-learn: The premier Machine Learning package in Python with support for most Machine Learning models.\n",
    "\n",
    "After finishing an introduction to all 4, I will go through a full Machine Learning example to show how the 4 are used together in a typical ML problem."
   ]
  },
  {
   "cell_type": "markdown",
   "metadata": {},
   "source": [
    "Below are a list of resources for further investigation. I have adapted the following notebook from some of these resources, but the additional explanation and examples may be helpful as you are learning.\n",
    "\n",
    "Numpy \n",
    "* https://towardsdatascience.com/lets-talk-about-numpy-for-datascience-beginners-b8088722309f\n",
    "* https://numpy.org/devdocs/user/quickstart.html\n",
    "* https://numpy.org/learn/\n",
    "* https://numpy.org/devdocs/user/absolute_beginners.html\n",
    "\n",
    "Pandas\n",
    "* https://www.learndatasci.com/tutorials/python-pandas-tutorial-complete-introduction-for-beginners/\n",
    "* https://pandas.pydata.org/pandas-docs/stable/getting_started/10min.html\n",
    "\n",
    "Matplotlib\n",
    "* https://www.analyticsvidhya.com/blog/2020/02/beginner-guide-matplotlib-data-visualization-exploration-python/\n",
    "* https://towardsdatascience.com/matplotlib-tutorial-learn-basics-of-pythons-powerful-plotting-library-b5d1b8f67596\n",
    "\n",
    "Scikit-learn\n",
    "* https://towardsdatascience.com/a-beginners-guide-to-linear-regression-in-python-with-scikit-learn-83a8f7ae2b4f"
   ]
  },
  {
   "cell_type": "markdown",
   "metadata": {},
   "source": [
    "---\n",
    "## Numpy\n",
    "\n",
    "Let's begin with numpy. Numpy provides the ability to do complex matrix operations using the built-in array type. Many popular Python packages are designed to work with numpy arrays, so they are extremely useful to learn and provide more capability than regular lists. \n",
    "\n",
    "To use numpy, we have to first import it. It is common to use the shorthand ```np``` when importing numpy."
   ]
  },
  {
   "cell_type": "code",
   "execution_count": 1,
   "metadata": {},
   "outputs": [
    {
     "name": "stdout",
     "output_type": "stream",
     "text": [
      "This is my list [1, 2, 3, 4, 5]\n",
      "This is my np array [1 2 3 4 5]\n"
     ]
    }
   ],
   "source": [
    "import numpy as np\n",
    "my_list = [1, 2, 3, 4, 5]\n",
    "my_np_array = np.array(my_list)\n",
    "\n",
    "print(f'This is my list {my_list}')\n",
    "print(f'This is my np array {my_np_array}')"
   ]
  },
  {
   "cell_type": "code",
   "execution_count": 2,
   "metadata": {},
   "outputs": [
    {
     "name": "stdout",
     "output_type": "stream",
     "text": [
      "This is my 2d list [[1, 2, 3], [4, 5, 6], [7, 8, 9]]\n",
      "This is my 2d np array \n",
      " [[1 2 3]\n",
      " [4 5 6]\n",
      " [7 8 9]]\n"
     ]
    }
   ],
   "source": [
    "# Let's show what a 2-d array looks like in numpy \n",
    "\n",
    "my_2d_list = [[1,2,3], [4,5,6], [7,8,9]]\n",
    "my_2d_np_array = np.array(my_2d_list)\n",
    "\n",
    "print(f'This is my 2d list {my_2d_list}')\n",
    "print(f'This is my 2d np array \\n {my_2d_np_array}')"
   ]
  },
  {
   "cell_type": "markdown",
   "metadata": {},
   "source": [
    "One of the nice features of numpy arrays is that they are much easier to read for two dimensional arrays. They are also easier to work with. Here are a few examples"
   ]
  },
  {
   "cell_type": "code",
   "execution_count": 3,
   "metadata": {},
   "outputs": [
    {
     "name": "stdout",
     "output_type": "stream",
     "text": [
      "6\n"
     ]
    }
   ],
   "source": [
    "# Print the value at the 2nd row 3rd column\n",
    "print(my_2d_np_array[1,2])"
   ]
  },
  {
   "cell_type": "code",
   "execution_count": 4,
   "metadata": {},
   "outputs": [
    {
     "name": "stdout",
     "output_type": "stream",
     "text": [
      "[2 5 8]\n"
     ]
    }
   ],
   "source": [
    "# Print the 2nd column of the np array\n",
    "print(my_2d_np_array[:,1])"
   ]
  },
  {
   "cell_type": "code",
   "execution_count": 8,
   "metadata": {},
   "outputs": [
    {
     "name": "stdout",
     "output_type": "stream",
     "text": [
      "[[ True  True  True]\n",
      " [False False False]\n",
      " [False False False]]\n"
     ]
    }
   ],
   "source": [
    "# Get all values greater than 5\n",
    "print(my_2d_np_array < 4)"
   ]
  },
  {
   "cell_type": "code",
   "execution_count": 9,
   "metadata": {},
   "outputs": [
    {
     "name": "stdout",
     "output_type": "stream",
     "text": [
      "[1 2 3]\n"
     ]
    }
   ],
   "source": [
    "print(my_2d_np_array[my_2d_np_array < 4])"
   ]
  },
  {
   "cell_type": "code",
   "execution_count": 10,
   "metadata": {},
   "outputs": [
    {
     "name": "stdout",
     "output_type": "stream",
     "text": [
      "[[ 5 10 15]\n",
      " [20 25 30]\n",
      " [35 40 45]]\n"
     ]
    }
   ],
   "source": [
    "# Multiply every value by 5\n",
    "print(my_2d_np_array*5)"
   ]
  },
  {
   "cell_type": "code",
   "execution_count": 11,
   "metadata": {},
   "outputs": [
    {
     "name": "stdout",
     "output_type": "stream",
     "text": [
      "[[1.         1.41421356 1.73205081]\n",
      " [2.         2.23606798 2.44948974]\n",
      " [2.64575131 2.82842712 3.        ]]\n"
     ]
    }
   ],
   "source": [
    "# Sqrt of every value\n",
    "print(np.sqrt(my_2d_np_array))"
   ]
  },
  {
   "cell_type": "markdown",
   "metadata": {},
   "source": [
    "Other numpy functions you can use element wise.\n",
    "\n",
    "* ```np.exp()``` \n",
    "* ```np.sin()``` \n",
    "* ```np.cos()``` \n",
    "* ```np.log()``` \n",
    "* ```np.sum()``` \n",
    "* ```np.mean()```\n",
    "* ```np.std()```\n",
    "\n",
    "Other numpy functions can be used to manipulate matrices, such as:\n",
    "* ```np.linalg.eig()```\n",
    "* ```np.matmul()```\n",
    "\n",
    "These are just a few examples of numpy, but there are a large number of functions built in to numpy to do almost all mathematical operations you will need. A good reference from the numpy team can be found here: https://numpy.org/doc/1.18/reference/index.html"
   ]
  },
  {
   "cell_type": "markdown",
   "metadata": {},
   "source": [
    "---\n",
    "In addition to writing out your numpy array, there is builtin functionality to create numpy arrays much faster. Let's go over a few ways to do this."
   ]
  },
  {
   "cell_type": "code",
   "execution_count": 12,
   "metadata": {},
   "outputs": [
    {
     "name": "stdout",
     "output_type": "stream",
     "text": [
      "[ 1  2  3  4  5  6  7  8  9 10]\n"
     ]
    }
   ],
   "source": [
    "# Create a numpy array with numbers 1-10\n",
    "print(np.arange(1,11))"
   ]
  },
  {
   "cell_type": "code",
   "execution_count": 15,
   "metadata": {},
   "outputs": [
    {
     "name": "stdout",
     "output_type": "stream",
     "text": [
      "[ 1.  2.  3.  4.  5.  6.  7.  8.  9. 10.]\n"
     ]
    }
   ],
   "source": [
    "# Create a numpy array starting at 1, ending at 10 with 5 evenly spaced values\n",
    "print(np.linspace(1,10,10))"
   ]
  },
  {
   "cell_type": "code",
   "execution_count": 16,
   "metadata": {},
   "outputs": [
    {
     "name": "stdout",
     "output_type": "stream",
     "text": [
      "[0. 0. 0. 0. 0. 0. 0. 0. 0. 0.]\n"
     ]
    }
   ],
   "source": [
    "# Create a numpy array of 10 zeros\n",
    "print(np.zeros(10))"
   ]
  },
  {
   "cell_type": "code",
   "execution_count": 17,
   "metadata": {},
   "outputs": [
    {
     "name": "stdout",
     "output_type": "stream",
     "text": [
      "[1. 1. 1. 1. 1. 1. 1.]\n"
     ]
    }
   ],
   "source": [
    "# Create a numpy array of 7 ones\n",
    "print(np.ones(7))"
   ]
  },
  {
   "cell_type": "code",
   "execution_count": 20,
   "metadata": {},
   "outputs": [
    {
     "name": "stdout",
     "output_type": "stream",
     "text": [
      "[[0. 0. 0. 0.]\n",
      " [0. 0. 0. 0.]\n",
      " [0. 0. 0. 0.]\n",
      " [0. 0. 0. 0.]\n",
      " [0. 0. 0. 0.]\n",
      " [0. 0. 0. 0.]\n",
      " [0. 0. 0. 0.]\n",
      " [0. 0. 0. 0.]\n",
      " [0. 0. 0. 0.]\n",
      " [0. 0. 0. 0.]]\n"
     ]
    }
   ],
   "source": [
    "# Create a 2-d array of 0's. Note that the input is a tuple\n",
    "print(np.zeros((10,4)))"
   ]
  },
  {
   "cell_type": "code",
   "execution_count": 21,
   "metadata": {},
   "outputs": [
    {
     "name": "stdout",
     "output_type": "stream",
     "text": [
      "[[1. 0. 0. 0. 0. 0.]\n",
      " [0. 1. 0. 0. 0. 0.]\n",
      " [0. 0. 1. 0. 0. 0.]\n",
      " [0. 0. 0. 1. 0. 0.]\n",
      " [0. 0. 0. 0. 1. 0.]\n",
      " [0. 0. 0. 0. 0. 1.]]\n"
     ]
    }
   ],
   "source": [
    "# Create an identity matrix of size 6\n",
    "print(np.eye(6))"
   ]
  },
  {
   "cell_type": "code",
   "execution_count": 22,
   "metadata": {},
   "outputs": [
    {
     "name": "stdout",
     "output_type": "stream",
     "text": [
      "[ 0  1  2  3  4  5  6  7  8  9 10 11 12 13 14 15 16 17 18 19 20 21 22 23]\n"
     ]
    }
   ],
   "source": [
    "# Create a list of 24 numbers and then reshape it to different sizes\n",
    "num_array = np.arange(24)\n",
    "print(num_array)"
   ]
  },
  {
   "cell_type": "code",
   "execution_count": 23,
   "metadata": {},
   "outputs": [
    {
     "name": "stdout",
     "output_type": "stream",
     "text": [
      "[[ 0  1  2  3  4  5  6  7]\n",
      " [ 8  9 10 11 12 13 14 15]\n",
      " [16 17 18 19 20 21 22 23]]\n",
      "[[ 0  1  2  3  4  5]\n",
      " [ 6  7  8  9 10 11]\n",
      " [12 13 14 15 16 17]\n",
      " [18 19 20 21 22 23]]\n"
     ]
    }
   ],
   "source": [
    "print(num_array.reshape((3,8)))\n",
    "print(num_array.reshape((4,6)))"
   ]
  },
  {
   "cell_type": "code",
   "execution_count": 24,
   "metadata": {},
   "outputs": [
    {
     "name": "stdout",
     "output_type": "stream",
     "text": [
      "[[ 0  1  2  3  4  5  6  7  8  9 10 11]\n",
      " [12 13 14 15 16 17 18 19 20 21 22 23]]\n"
     ]
    }
   ],
   "source": [
    "print(num_array.reshape((2,12)))"
   ]
  },
  {
   "cell_type": "code",
   "execution_count": 25,
   "metadata": {},
   "outputs": [
    {
     "name": "stdout",
     "output_type": "stream",
     "text": [
      "[[ 0  2  4  6  8 10 12 14 16 18 20 22]\n",
      " [ 1  3  5  7  9 11 13 15 17 19 21 23]]\n"
     ]
    }
   ],
   "source": [
    "print(num_array.reshape((2,12), order=\"F\"))"
   ]
  },
  {
   "cell_type": "markdown",
   "metadata": {},
   "source": [
    "---\n",
    "In addition to array manipulation and common math operations, numpy can be used for random number generation"
   ]
  },
  {
   "cell_type": "code",
   "execution_count": 30,
   "metadata": {},
   "outputs": [
    {
     "name": "stdout",
     "output_type": "stream",
     "text": [
      "8\n"
     ]
    }
   ],
   "source": [
    "# Generate random integers\n",
    "my_rand_int = np.random.randint(10)\n",
    "print(my_rand_int)"
   ]
  },
  {
   "cell_type": "code",
   "execution_count": 31,
   "metadata": {},
   "outputs": [
    {
     "name": "stdout",
     "output_type": "stream",
     "text": [
      "[15  6  5  3 10  4  4 12 12  8]\n"
     ]
    }
   ],
   "source": [
    "# Generate 10 random integers between 1 and 20\n",
    "my_rand_ints = np.random.randint(low = 1, high = 20, size = 10)\n",
    "print(my_rand_ints)"
   ]
  },
  {
   "cell_type": "code",
   "execution_count": 32,
   "metadata": {},
   "outputs": [
    {
     "name": "stdout",
     "output_type": "stream",
     "text": [
      "[-1.03186056 -0.02566552  0.40724361 -1.49559713 -0.68055371 -1.53451867\n",
      "  0.56676969 -0.62794773 -0.31487896 -2.37198721]\n"
     ]
    }
   ],
   "source": [
    "# Generate 10 numbers from a normal distribution (Mean 0, sd 1)\n",
    "print(np.random.standard_normal(size = 10))"
   ]
  },
  {
   "cell_type": "code",
   "execution_count": 33,
   "metadata": {},
   "outputs": [
    {
     "name": "stdout",
     "output_type": "stream",
     "text": [
      "[167  21 198  70  36]\n"
     ]
    }
   ],
   "source": [
    "# Generate random numbers and find the min and max\n",
    "my_new_rand_ints = np.random.randint(low = 10, high = 200, size = 5)\n",
    "print(my_new_rand_ints)"
   ]
  },
  {
   "cell_type": "code",
   "execution_count": 34,
   "metadata": {},
   "outputs": [
    {
     "name": "stdout",
     "output_type": "stream",
     "text": [
      "198\n",
      "21\n",
      "2\n",
      "1\n"
     ]
    }
   ],
   "source": [
    "print(my_new_rand_ints.max())\n",
    "print(my_new_rand_ints.min())\n",
    "print(my_new_rand_ints.argmax())\n",
    "print(my_new_rand_ints.argmin())"
   ]
  },
  {
   "cell_type": "markdown",
   "metadata": {},
   "source": [
    "---\n",
    "## Pandas"
   ]
  },
  {
   "cell_type": "markdown",
   "metadata": {},
   "source": [
    "Similar to numpy, there is a common way to import pandas, specifically ```import pandas as pd```\n",
    "\n",
    "Pandas is a versatile library for reading and working with tabular data. This is extremely common in ML, so to demonstrate pandas I will use a sample dataset. The dataset is a famous starting dataset and contains information about different types of irises (the flower)."
   ]
  },
  {
   "cell_type": "code",
   "execution_count": 35,
   "metadata": {},
   "outputs": [],
   "source": [
    "# Import Pandas\n",
    "import pandas as pd"
   ]
  },
  {
   "cell_type": "code",
   "execution_count": 36,
   "metadata": {},
   "outputs": [],
   "source": [
    "# Read in the dataset\n",
    "df = pd.read_csv(\"Iris.csv\")"
   ]
  },
  {
   "cell_type": "markdown",
   "metadata": {},
   "source": [
    "Pandas has a lot of reading functionality. You can read from txt, excel, json, and databases direclty. From CSV is the most commonly used for me, but you are able to read in many types of data files here."
   ]
  },
  {
   "cell_type": "code",
   "execution_count": 37,
   "metadata": {},
   "outputs": [
    {
     "name": "stdout",
     "output_type": "stream",
     "text": [
      "   sepal_length  sepal_width  petal_length  petal_width species\n",
      "0           5.1          3.5           1.4          0.2  setosa\n",
      "1           4.9          3.0           1.4          0.2  setosa\n",
      "2           4.7          3.2           1.3          0.2  setosa\n",
      "3           4.6          3.1           1.5          0.2  setosa\n",
      "4           5.0          3.6           1.4          0.2  setosa\n"
     ]
    }
   ],
   "source": [
    "# Let's look at the first few rows of the dataset\n",
    "print(df.head(5))"
   ]
  },
  {
   "cell_type": "code",
   "execution_count": 38,
   "metadata": {},
   "outputs": [
    {
     "name": "stdout",
     "output_type": "stream",
     "text": [
      "     sepal_length  sepal_width  petal_length  petal_width    species\n",
      "145           6.7          3.0           5.2          2.3  virginica\n",
      "146           6.3          2.5           5.0          1.9  virginica\n",
      "147           6.5          3.0           5.2          2.0  virginica\n",
      "148           6.2          3.4           5.4          2.3  virginica\n",
      "149           5.9          3.0           5.1          1.8  virginica\n"
     ]
    }
   ],
   "source": [
    "# Let's look at the final few rows of the dataset\n",
    "print(df.tail(5))"
   ]
  },
  {
   "cell_type": "code",
   "execution_count": 39,
   "metadata": {},
   "outputs": [
    {
     "name": "stdout",
     "output_type": "stream",
     "text": [
      "Index(['sepal_length', 'sepal_width', 'petal_length', 'petal_width',\n",
      "       'species'],\n",
      "      dtype='object')\n"
     ]
    }
   ],
   "source": [
    "# Let's see what columns are in our dataset\n",
    "print(df.columns)"
   ]
  },
  {
   "cell_type": "code",
   "execution_count": 40,
   "metadata": {},
   "outputs": [
    {
     "name": "stdout",
     "output_type": "stream",
     "text": [
      "[[5.1 3.5 1.4 0.2 'setosa']\n",
      " [4.9 3.0 1.4 0.2 'setosa']\n",
      " [4.7 3.2 1.3 0.2 'setosa']\n",
      " [4.6 3.1 1.5 0.2 'setosa']\n",
      " [5.0 3.6 1.4 0.2 'setosa']]\n"
     ]
    }
   ],
   "source": [
    "# If we needed to change to numpy we can do one of these calls\n",
    "print(df.to_numpy()[:5,:])"
   ]
  },
  {
   "cell_type": "code",
   "execution_count": 41,
   "metadata": {},
   "outputs": [
    {
     "name": "stdout",
     "output_type": "stream",
     "text": [
      "[[5.1 3.5 1.4 0.2 'setosa']\n",
      " [4.9 3.0 1.4 0.2 'setosa']\n",
      " [4.7 3.2 1.3 0.2 'setosa']\n",
      " [4.6 3.1 1.5 0.2 'setosa']\n",
      " [5.0 3.6 1.4 0.2 'setosa']]\n"
     ]
    }
   ],
   "source": [
    "# Or similarly we can do\n",
    "print(df.values[:5,:])"
   ]
  },
  {
   "cell_type": "code",
   "execution_count": 42,
   "metadata": {},
   "outputs": [
    {
     "name": "stdout",
     "output_type": "stream",
     "text": [
      "                   0       1       2       3       4\n",
      "sepal_length     5.1     4.9     4.7     4.6       5\n",
      "sepal_width      3.5       3     3.2     3.1     3.6\n",
      "petal_length     1.4     1.4     1.3     1.5     1.4\n",
      "petal_width      0.2     0.2     0.2     0.2     0.2\n",
      "species       setosa  setosa  setosa  setosa  setosa\n"
     ]
    }
   ],
   "source": [
    "# We can transpose the dataframe (useful for matrix operations)\n",
    "print(df.head().T)"
   ]
  },
  {
   "cell_type": "code",
   "execution_count": 45,
   "metadata": {},
   "outputs": [
    {
     "name": "stdout",
     "output_type": "stream",
     "text": [
      "     sepal_length  sepal_width  petal_length  petal_width    species\n",
      "13            4.3          3.0           1.1          0.1     setosa\n",
      "42            4.4          3.2           1.3          0.2     setosa\n",
      "38            4.4          3.0           1.3          0.2     setosa\n",
      "8             4.4          2.9           1.4          0.2     setosa\n",
      "41            4.5          2.3           1.3          0.3     setosa\n",
      "..            ...          ...           ...          ...        ...\n",
      "122           7.7          2.8           6.7          2.0  virginica\n",
      "118           7.7          2.6           6.9          2.3  virginica\n",
      "117           7.7          3.8           6.7          2.2  virginica\n",
      "135           7.7          3.0           6.1          2.3  virginica\n",
      "131           7.9          3.8           6.4          2.0  virginica\n",
      "\n",
      "[150 rows x 5 columns]\n"
     ]
    }
   ],
   "source": [
    "# We can sort data by a given column\n",
    "print(df.sort_values(by = \"sepal_length\"))"
   ]
  },
  {
   "cell_type": "code",
   "execution_count": 46,
   "metadata": {},
   "outputs": [
    {
     "name": "stdout",
     "output_type": "stream",
     "text": [
      "       sepal_length  sepal_width  petal_length  petal_width\n",
      "count    150.000000   150.000000    150.000000   150.000000\n",
      "mean       5.843333     3.054000      3.758667     1.198667\n",
      "std        0.828066     0.433594      1.764420     0.763161\n",
      "min        4.300000     2.000000      1.000000     0.100000\n",
      "25%        5.100000     2.800000      1.600000     0.300000\n",
      "50%        5.800000     3.000000      4.350000     1.300000\n",
      "75%        6.400000     3.300000      5.100000     1.800000\n",
      "max        7.900000     4.400000      6.900000     2.500000\n"
     ]
    }
   ],
   "source": [
    "# We can get summary statistics for each numeric column\n",
    "print(df.describe())"
   ]
  },
  {
   "cell_type": "code",
   "execution_count": 50,
   "metadata": {},
   "outputs": [
    {
     "name": "stdout",
     "output_type": "stream",
     "text": [
      "   sepal_length  sepal_width  petal_length  petal_width species\n",
      "0           5.1          3.5           1.4          0.2  setosa\n",
      "1           4.9          3.0           1.4          0.2  setosa\n",
      "2           4.7          3.2           1.3          0.2  setosa\n",
      "3           4.6          3.1           1.5          0.2  setosa\n",
      "4           5.0          3.6           1.4          0.2  setosa\n"
     ]
    }
   ],
   "source": [
    "# Pandas has a few ways to get specific data from a data frame\n",
    "# To better show the loc function \n",
    "my_new_index = np.arange(150)\n",
    "df = df.set_index(my_new_index)\n",
    "print(df.head())"
   ]
  },
  {
   "cell_type": "code",
   "execution_count": 53,
   "metadata": {},
   "outputs": [
    {
     "name": "stdout",
     "output_type": "stream",
     "text": [
      "5.1\n"
     ]
    }
   ],
   "source": [
    "my_result = df.loc[0,\"sepal_length\"]\n",
    "print(my_result)"
   ]
  },
  {
   "cell_type": "code",
   "execution_count": 51,
   "metadata": {},
   "outputs": [
    {
     "name": "stdout",
     "output_type": "stream",
     "text": [
      "5.1\n"
     ]
    }
   ],
   "source": [
    "my_result = df.iloc[0,0]\n",
    "print(my_result)"
   ]
  },
  {
   "cell_type": "code",
   "execution_count": null,
   "metadata": {},
   "outputs": [],
   "source": [
    "df = df.reset_index(drop=True)"
   ]
  },
  {
   "cell_type": "code",
   "execution_count": 54,
   "metadata": {},
   "outputs": [
    {
     "name": "stdout",
     "output_type": "stream",
     "text": [
      "   sepal_length  sepal_width  petal_length  petal_width species\n",
      "0           5.1          3.5           1.4          0.2  setosa\n",
      "1           4.9          3.0           1.4          0.2  setosa\n",
      "2           4.7          3.2           1.3          0.2  setosa\n",
      "3           4.6          3.1           1.5          0.2  setosa\n",
      "4           5.0          3.6           1.4          0.2  setosa\n"
     ]
    }
   ],
   "source": [
    "print(df.head())"
   ]
  },
  {
   "cell_type": "code",
   "execution_count": 55,
   "metadata": {},
   "outputs": [
    {
     "name": "stdout",
     "output_type": "stream",
     "text": [
      "   sepal_length  sepal_width  petal_length\n",
      "2           4.7          3.2           1.3\n",
      "3           4.6          3.1           1.5\n",
      "4           5.0          3.6           1.4\n",
      "5           5.4          3.9           1.7\n",
      "6           4.6          3.4           1.4\n",
      "   sepal_width\n",
      "2          3.2\n",
      "3          3.1\n"
     ]
    }
   ],
   "source": [
    "# Some more examples\n",
    "print(df.iloc[2:7,:3])\n",
    "print(df.iloc[2:4,1:2])"
   ]
  },
  {
   "cell_type": "code",
   "execution_count": 56,
   "metadata": {},
   "outputs": [
    {
     "name": "stdout",
     "output_type": "stream",
     "text": [
      "(150, 5)\n",
      "Number of rows 150\n",
      "Number of cols 5\n"
     ]
    }
   ],
   "source": [
    "# Checking size and shape of dataframe\n",
    "print(df.shape)\n",
    "print(f'Number of rows {df.shape[0]}')\n",
    "print(f'Number of cols {df.shape[1]}')"
   ]
  },
  {
   "cell_type": "code",
   "execution_count": 60,
   "metadata": {},
   "outputs": [
    {
     "name": "stdout",
     "output_type": "stream",
     "text": [
      "(50, 5)\n",
      "    sepal_length  sepal_width  petal_length  petal_width species\n",
      "0            5.1          3.5           1.4          0.2  setosa\n",
      "1            4.9          3.0           1.4          0.2  setosa\n",
      "2            4.7          3.2           1.3          0.2  setosa\n",
      "3            4.6          3.1           1.5          0.2  setosa\n",
      "4            5.0          3.6           1.4          0.2  setosa\n",
      "5            5.4          3.9           1.7          0.4  setosa\n",
      "6            4.6          3.4           1.4          0.3  setosa\n",
      "7            5.0          3.4           1.5          0.2  setosa\n",
      "8            4.4          2.9           1.4          0.2  setosa\n",
      "9            4.9          3.1           1.5          0.1  setosa\n",
      "10           5.4          3.7           1.5          0.2  setosa\n",
      "11           4.8          3.4           1.6          0.2  setosa\n",
      "12           4.8          3.0           1.4          0.1  setosa\n",
      "13           4.3          3.0           1.1          0.1  setosa\n",
      "14           5.8          4.0           1.2          0.2  setosa\n",
      "15           5.7          4.4           1.5          0.4  setosa\n",
      "16           5.4          3.9           1.3          0.4  setosa\n",
      "17           5.1          3.5           1.4          0.3  setosa\n",
      "18           5.7          3.8           1.7          0.3  setosa\n",
      "19           5.1          3.8           1.5          0.3  setosa\n",
      "20           5.4          3.4           1.7          0.2  setosa\n",
      "21           5.1          3.7           1.5          0.4  setosa\n",
      "22           4.6          3.6           1.0          0.2  setosa\n",
      "23           5.1          3.3           1.7          0.5  setosa\n",
      "24           4.8          3.4           1.9          0.2  setosa\n",
      "25           5.0          3.0           1.6          0.2  setosa\n",
      "26           5.0          3.4           1.6          0.4  setosa\n",
      "27           5.2          3.5           1.5          0.2  setosa\n",
      "28           5.2          3.4           1.4          0.2  setosa\n",
      "29           4.7          3.2           1.6          0.2  setosa\n",
      "30           4.8          3.1           1.6          0.2  setosa\n",
      "31           5.4          3.4           1.5          0.4  setosa\n",
      "32           5.2          4.1           1.5          0.1  setosa\n",
      "33           5.5          4.2           1.4          0.2  setosa\n",
      "34           4.9          3.1           1.5          0.1  setosa\n",
      "35           5.0          3.2           1.2          0.2  setosa\n",
      "36           5.5          3.5           1.3          0.2  setosa\n",
      "37           4.9          3.1           1.5          0.1  setosa\n",
      "38           4.4          3.0           1.3          0.2  setosa\n",
      "39           5.1          3.4           1.5          0.2  setosa\n",
      "40           5.0          3.5           1.3          0.3  setosa\n",
      "41           4.5          2.3           1.3          0.3  setosa\n",
      "42           4.4          3.2           1.3          0.2  setosa\n",
      "43           5.0          3.5           1.6          0.6  setosa\n",
      "44           5.1          3.8           1.9          0.4  setosa\n",
      "45           4.8          3.0           1.4          0.3  setosa\n",
      "46           5.1          3.8           1.6          0.2  setosa\n",
      "47           4.6          3.2           1.4          0.2  setosa\n",
      "48           5.3          3.7           1.5          0.2  setosa\n",
      "49           5.0          3.3           1.4          0.2  setosa\n"
     ]
    }
   ],
   "source": [
    "# Indexing a dataframe\n",
    "# Let's only get the rows which have species == setosa\n",
    "setosa_df = df[df[\"species\"] == \"setosa\"]\n",
    "print(setosa_df.shape)\n",
    "print(setosa_df)"
   ]
  },
  {
   "cell_type": "code",
   "execution_count": 61,
   "metadata": {},
   "outputs": [
    {
     "name": "stdout",
     "output_type": "stream",
     "text": [
      "(3, 5)\n",
      "    sepal_length  sepal_width  petal_length  petal_width species\n",
      "15           5.7          4.4           1.5          0.4  setosa\n",
      "32           5.2          4.1           1.5          0.1  setosa\n",
      "33           5.5          4.2           1.4          0.2  setosa\n"
     ]
    }
   ],
   "source": [
    "# Indexing a dataframe\n",
    "# Let's only get the rows where sepal width is greater than 4\n",
    "sep_width_df = df[df[\"sepal_width\"] > 4]\n",
    "print(sep_width_df.shape)\n",
    "print(sep_width_df)"
   ]
  },
  {
   "cell_type": "markdown",
   "metadata": {},
   "source": [
    "Let's add a new column to our dataframe that is the sum of sepal length and sepal width. I am calling it \"sepal_total\""
   ]
  },
  {
   "cell_type": "code",
   "execution_count": 63,
   "metadata": {},
   "outputs": [
    {
     "name": "stdout",
     "output_type": "stream",
     "text": [
      "(150, 6)\n",
      "   sepal_length  sepal_width  petal_length  petal_width species  sepal_total\n",
      "0           5.1          3.5           1.4          0.2  setosa        17.85\n",
      "1           4.9          3.0           1.4          0.2  setosa        14.70\n",
      "2           4.7          3.2           1.3          0.2  setosa        15.04\n",
      "3           4.6          3.1           1.5          0.2  setosa        14.26\n",
      "4           5.0          3.6           1.4          0.2  setosa        18.00\n"
     ]
    }
   ],
   "source": [
    "# Create new column\n",
    "df['sepal_total'] = df['sepal_width'] * df['sepal_length']\n",
    "print(df.shape)\n",
    "print(df.head())"
   ]
  },
  {
   "cell_type": "code",
   "execution_count": null,
   "metadata": {},
   "outputs": [],
   "source": [
    "# Finished analysis, let's write our analysis to a csv file\n",
    "# df.to_csv(\"Finished_iris.csv\")"
   ]
  },
  {
   "cell_type": "markdown",
   "metadata": {},
   "source": [
    "---\n",
    "## Matplotlib\n",
    "Matplotlib is the most popular visualization library for Python. It is highly customizable, so while it does take a bit of code to setup plots, you can customize them in almost any way. Similar to numpy and pandas the common import statement for matplotlib is ```import matplotlib.pyplot as plt```\n",
    "\n",
    "First, let's start with how to do a general plot and then look at some more custom types of plots"
   ]
  },
  {
   "cell_type": "code",
   "execution_count": 65,
   "metadata": {},
   "outputs": [
    {
     "data": {
      "image/png": "[encoded data removed]",
      "text/plain": [
       "<Figure size 432x288 with 1 Axes>"
      ]
     },
     "metadata": {
      "needs_background": "light"
     },
     "output_type": "display_data"
    }
   ],
   "source": [
    "# Sample plot \n",
    "import matplotlib.pyplot as plt\n",
    "plt.plot([1,2,3,4], [1,4,9,16])\n",
    "plt.show()"
   ]
  },
  {
   "cell_type": "code",
   "execution_count": 66,
   "metadata": {},
   "outputs": [],
   "source": [
    "# Let's make some data and use it later\n",
    "x = np.arange(5)\n",
    "\n",
    "# x^2\n",
    "x_sq = x**2\n",
    "\n",
    "# x^3\n",
    "x_cub = x**3\n",
    "\n",
    "# 2x + 20\n",
    "x_two = x*2+20"
   ]
  },
  {
   "cell_type": "code",
   "execution_count": 67,
   "metadata": {},
   "outputs": [
    {
     "data": {
      "image/png": "[encoded data removed]",
      "text/plain": [
       "<Figure size 432x288 with 1 Axes>"
      ]
     },
     "metadata": {
      "needs_background": "light"
     },
     "output_type": "display_data"
    }
   ],
   "source": [
    "# We can plot all of these simultaneously\n",
    "plt.plot(x, x_sq)\n",
    "plt.plot(x, x_cub)\n",
    "plt.plot(x, x_two)\n",
    "plt.show()"
   ]
  },
  {
   "cell_type": "code",
   "execution_count": 68,
   "metadata": {},
   "outputs": [
    {
     "data": {
      "image/png": "[encoded data removed]",
      "text/plain": [
       "<Figure size 432x288 with 1 Axes>"
      ]
     },
     "metadata": {
      "needs_background": "light"
     },
     "output_type": "display_data"
    }
   ],
   "source": [
    "# Instead of line plots we can also do scatter plots\n",
    "plt.scatter(x, x_sq)\n",
    "plt.scatter(x, x_cub)\n",
    "plt.scatter(x, x_two)\n",
    "plt.show()"
   ]
  },
  {
   "cell_type": "code",
   "execution_count": 69,
   "metadata": {},
   "outputs": [
    {
     "data": {
      "image/png": "[encoded data removed]",
      "text/plain": [
       "<Figure size 432x288 with 1 Axes>"
      ]
     },
     "metadata": {
      "needs_background": "light"
     },
     "output_type": "display_data"
    }
   ],
   "source": [
    "# Let's change it so each series has a different marker type\n",
    "plt.scatter(x, x_sq, marker=\"o\") # Circle\n",
    "plt.scatter(x, x_cub, marker=\"s\") # Square\n",
    "plt.scatter(x, x_two, marker=\"d\") # Diamond\n",
    "plt.show()"
   ]
  },
  {
   "cell_type": "code",
   "execution_count": 70,
   "metadata": {},
   "outputs": [
    {
     "data": {
      "image/png": "[encoded data removed]",
      "text/plain": [
       "<Figure size 432x288 with 1 Axes>"
      ]
     },
     "metadata": {
      "needs_background": "light"
     },
     "output_type": "display_data"
    }
   ],
   "source": [
    "# Let's add on so the series are different sizes\n",
    "plt.scatter(x, x_sq, marker=\"o\", s = 20)\n",
    "plt.scatter(x, x_cub, marker=\"s\", s = 50)\n",
    "plt.scatter(x, x_two, marker=\"d\", s = 100)\n",
    "plt.show()"
   ]
  },
  {
   "cell_type": "code",
   "execution_count": 71,
   "metadata": {},
   "outputs": [
    {
     "data": {
      "image/png": "[encoded data removed]",
      "text/plain": [
       "<Figure size 432x288 with 1 Axes>"
      ]
     },
     "metadata": {
      "needs_background": "light"
     },
     "output_type": "display_data"
    }
   ],
   "source": [
    "# Let's add on so the colors are different\n",
    "plt.scatter(x, x_sq, marker=\"o\", s=20, c=\"k\")\n",
    "plt.scatter(x, x_cub, marker=\"s\", s=50, c=\"b\")\n",
    "plt.scatter(x, x_two, marker=\"d\", s=100, c=\"r\")\n",
    "plt.show()"
   ]
  },
  {
   "cell_type": "code",
   "execution_count": 73,
   "metadata": {},
   "outputs": [
    {
     "data": {
      "image/png": "[encoded data removed]",
      "text/plain": [
       "<Figure size 432x288 with 1 Axes>"
      ]
     },
     "metadata": {
      "needs_background": "light"
     },
     "output_type": "display_data"
    }
   ],
   "source": [
    "# Next let's add a title and axis labels\n",
    "plt.scatter(x, x_sq, marker=\"o\", s=20, c=\"k\")\n",
    "plt.scatter(x, x_cub, marker=\"s\", s=50, c=\"b\")\n",
    "plt.scatter(x, x_two, marker=\"d\", s=100, c=\"r\")\n",
    "plt.xlabel(\"X\")\n",
    "plt.ylabel(\"Y\")\n",
    "plt.title(\"Relationship of different functions\")\n",
    "plt.show()"
   ]
  },
  {
   "cell_type": "code",
   "execution_count": 76,
   "metadata": {},
   "outputs": [
    {
     "data": {
      "image/png": "[encoded data removed]",
      "text/plain": [
       "<Figure size 432x288 with 3 Axes>"
      ]
     },
     "metadata": {
      "needs_background": "light"
     },
     "output_type": "display_data"
    }
   ],
   "source": [
    "# Instead of showing all 3 series on the same plot, we can make 3 smaller plots\n",
    "plt.subplot(1,3,1)\n",
    "plt.scatter(x, x_sq, marker=\"o\", s=20, c=\"k\")\n",
    "plt.title(\"x^2\")\n",
    "plt.subplot(1,3,2)\n",
    "plt.scatter(x, x_cub, marker=\"s\", s=50, c=\"b\")\n",
    "plt.title(\"x^3\")\n",
    "plt.subplot(1,3,3)\n",
    "plt.scatter(x, x_two, marker=\"d\", s=100, c=\"r\")\n",
    "plt.title(\"2x+20\")\n",
    "plt.show()"
   ]
  },
  {
   "cell_type": "code",
   "execution_count": 77,
   "metadata": {},
   "outputs": [
    {
     "data": {
      "image/png": "[encoded data removed]",
      "text/plain": [
       "<Figure size 432x288 with 3 Axes>"
      ]
     },
     "metadata": {
      "needs_background": "light"
     },
     "output_type": "display_data"
    }
   ],
   "source": [
    "# Instead of showing all 3 series on the same plot, we can make 3 smaller plots\n",
    "# Let's make all of the y axes the same range\n",
    "plt.subplot(1,3,1)\n",
    "plt.scatter(x, x_sq, marker=\"o\", s=20, c=\"k\")\n",
    "plt.title(\"x^2\")\n",
    "plt.ylim([0,70])\n",
    "plt.subplot(1,3,2)\n",
    "plt.scatter(x, x_cub, marker=\"s\", s=50, c=\"b\")\n",
    "plt.title(\"x^3\")\n",
    "plt.ylim([0,70])\n",
    "plt.subplot(1,3,3)\n",
    "plt.scatter(x, x_two, marker=\"d\", s=100, c=\"r\")\n",
    "plt.title(\"2x+20\")\n",
    "plt.ylim([0,70])\n",
    "plt.show()"
   ]
  },
  {
   "cell_type": "code",
   "execution_count": 78,
   "metadata": {},
   "outputs": [
    {
     "data": {
      "image/png": "[encoded data removed]",
      "text/plain": [
       "<Figure size 432x288 with 1 Axes>"
      ]
     },
     "metadata": {
      "needs_background": "light"
     },
     "output_type": "display_data"
    }
   ],
   "source": [
    "# Some other types of plots you can do\n",
    "plt.bar(x, x_sq)\n",
    "plt.show()"
   ]
  },
  {
   "cell_type": "code",
   "execution_count": 79,
   "metadata": {},
   "outputs": [
    {
     "data": {
      "image/png": "[encoded data removed]",
      "text/plain": [
       "<Figure size 432x288 with 1 Axes>"
      ]
     },
     "metadata": {},
     "output_type": "display_data"
    }
   ],
   "source": [
    "plt.pie(x)\n",
    "plt.show()"
   ]
  },
  {
   "cell_type": "code",
   "execution_count": 80,
   "metadata": {},
   "outputs": [
    {
     "data": {
      "image/png": "[encoded data removed]",
      "text/plain": [
       "<Figure size 432x288 with 1 Axes>"
      ]
     },
     "metadata": {
      "needs_background": "light"
     },
     "output_type": "display_data"
    }
   ],
   "source": [
    "plt.hist(np.random.randn(1000))\n",
    "plt.show()"
   ]
  },
  {
   "cell_type": "code",
   "execution_count": 81,
   "metadata": {},
   "outputs": [
    {
     "data": {
      "text/plain": [
       "<matplotlib.collections.PathCollection at 0x117d8b950>"
      ]
     },
     "execution_count": 81,
     "metadata": {},
     "output_type": "execute_result"
    },
    {
     "data": {
      "image/png": "[encoded data removed]",
      "text/plain": [
       "<Figure size 432x288 with 1 Axes>"
      ]
     },
     "metadata": {
      "needs_background": "light"
     },
     "output_type": "display_data"
    }
   ],
   "source": [
    "# Showing plots with color\n",
    "# Let's say we have x,y data which has a 3rd dimension that we want to plot in color\n",
    "new_x = np.linspace(0,20,21)\n",
    "new_y = np.linspace(0,20,21)\n",
    "result = [(20-i)*(20-j)*(i*j) for j in new_y for i in new_x]\n",
    "x_vals = [i for j in new_y for i in new_x]\n",
    "y_vals = [j for j in new_y for i in new_x]\n",
    "plt.scatter(x_vals, y_vals)"
   ]
  },
  {
   "cell_type": "code",
   "execution_count": 82,
   "metadata": {},
   "outputs": [
    {
     "data": {
      "image/png": "[encoded data removed]",
      "text/plain": [
       "<Figure size 432x288 with 2 Axes>"
      ]
     },
     "metadata": {
      "needs_background": "light"
     },
     "output_type": "display_data"
    }
   ],
   "source": [
    "plt.scatter(x_vals, y_vals, c=result)\n",
    "plt.colorbar()\n",
    "plt.show()"
   ]
  },
  {
   "cell_type": "markdown",
   "metadata": {},
   "source": [
    "You can also do 3D plots with matplotlib. However, these can be a little more challenging to present effectively. You must use the ```ax.plot``` format for doing 3D plots, as far as I know. This method allows you to do almost everything that can be done using ```pyplot```. The methods are named slightly differently because the ax notation is more object-oriented as opposed to pyplot which is a port from Matlab. It is not difficult, but keep this in mind as you are reading code online. "
   ]
  },
  {
   "cell_type": "code",
   "execution_count": 83,
   "metadata": {},
   "outputs": [
    {
     "data": {
      "image/png": "[encoded data removed]",
      "text/plain": [
       "<Figure size 432x288 with 1 Axes>"
      ]
     },
     "metadata": {
      "needs_background": "light"
     },
     "output_type": "display_data"
    }
   ],
   "source": [
    "from mpl_toolkits import mplot3d\n",
    "ax = plt.axes(projection=\"3d\")\n",
    "ax.scatter3D(x_vals, y_vals, result)\n",
    "plt.show()"
   ]
  },
  {
   "cell_type": "markdown",
   "metadata": {},
   "source": [
    "---\n",
    "## Scikit-Learn\n",
    "Scikit-learn is the premier Python package for machine learning. There are a large range of models you can use and they all follow a easy to implement general structure. This tutorial is meant to demonstrate how to use scikit-learn, but will skip over the machine learning specific details. \n",
    "\n",
    "Within scikit learn, there are a large number of classes that contain different modeling types. My recommendation is to google where the model you are looking for is located in sklearn so you can import it correctly. A full list is given here: https://scikit-learn.org/stable/modules/classes.html#module-sklearn.linear_model. Here are a few common ones you will likely use.\n",
    "* ```from sklearn.linear_model import LinearRegression```\n",
    "* ```from sklearn.linear_model import LogisticRegression```\n",
    "* ```from sklearn.svm import SVR``` (Regression)\n",
    "* ```from sklearn.svm import SVC``` (Classification)\n",
    "* ```from sklearn.tree import DecisionTreeClassifier```\n",
    "* ```from sklearn.tree import DecisionTreeRegressor```\n",
    "\n",
    "Some other general classes to look into are ```sklearn.metrics```, ```sklearn.model_selection```, and ```sklearn.preprocessing```. These are general purpose tools that will be used for fitting a wide range of models. \n",
    "\n",
    "For this tutorial, I am going to use Linear Regression to predict Petal Width using Sepal Width, Sepal Length, and Petal Length from the iris dataset above. This example will tie the 4 packages together, but is primarily focused on scikit learn."
   ]
  },
  {
   "cell_type": "code",
   "execution_count": 85,
   "metadata": {},
   "outputs": [
    {
     "name": "stdout",
     "output_type": "stream",
     "text": [
      "   sepal_length  sepal_width  petal_length\n",
      "0           5.1          3.5           1.4\n",
      "1           4.9          3.0           1.4\n",
      "2           4.7          3.2           1.3\n",
      "3           4.6          3.1           1.5\n",
      "4           5.0          3.6           1.4\n",
      "0    0.2\n",
      "1    0.2\n",
      "2    0.2\n",
      "3    0.2\n",
      "4    0.2\n",
      "Name: petal_width, dtype: float64\n"
     ]
    }
   ],
   "source": [
    "import numpy as np\n",
    "import pandas as pd\n",
    "from sklearn.linear_model import LinearRegression\n",
    "df = pd.read_csv(\"iris.csv\")\n",
    "x = df.iloc[:, :3]\n",
    "y = df.iloc[:, 3]\n",
    "print(x.head())\n",
    "print(y.head())"
   ]
  },
  {
   "cell_type": "code",
   "execution_count": 86,
   "metadata": {},
   "outputs": [],
   "source": [
    "# Scikit learn requires numpy arrays, so we have to convert x and y to np arrays\n",
    "x = x.values\n",
    "y = y.values"
   ]
  },
  {
   "cell_type": "code",
   "execution_count": 88,
   "metadata": {},
   "outputs": [
    {
     "data": {
      "text/plain": [
       "LinearRegression(copy_X=True, fit_intercept=True, n_jobs=None, normalize=False)"
      ]
     },
     "execution_count": 88,
     "metadata": {},
     "output_type": "execute_result"
    }
   ],
   "source": [
    "# Not going to do scaling, or training/testing for this example. So let's setup the model\n",
    "# For many models, the following line is where you put in hyperparameters if applicable.\n",
    "my_reg_model = LinearRegression()\n",
    "my_reg_model.fit(x,y)"
   ]
  },
  {
   "cell_type": "code",
   "execution_count": 89,
   "metadata": {},
   "outputs": [
    {
     "name": "stdout",
     "output_type": "stream",
     "text": [
      "[-0.21027133  0.22877721  0.52608818]\n",
      "-0.248723586024453\n"
     ]
    }
   ],
   "source": [
    "# Let's check what the coefficients and intercepts are\n",
    "print(my_reg_model.coef_)\n",
    "print(my_reg_model.intercept_)"
   ]
  },
  {
   "cell_type": "code",
   "execution_count": 90,
   "metadata": {},
   "outputs": [],
   "source": [
    "# We can make predictions using the model\n",
    "y_pred = my_reg_model.predict(x)"
   ]
  },
  {
   "cell_type": "code",
   "execution_count": 91,
   "metadata": {},
   "outputs": [
    {
     "name": "stdout",
     "output_type": "stream",
     "text": [
      "0.0358\n"
     ]
    }
   ],
   "source": [
    "# Import MSE to check how good our model is\n",
    "from sklearn.metrics import mean_squared_error\n",
    "print(np.round(mean_squared_error(y, y_pred),4))"
   ]
  },
  {
   "cell_type": "code",
   "execution_count": 92,
   "metadata": {},
   "outputs": [
    {
     "name": "stdout",
     "output_type": "stream",
     "text": [
      "The RMSE is 0.189\n"
     ]
    }
   ],
   "source": [
    "rmse = np.sqrt(np.round(mean_squared_error(y, y_pred),4))\n",
    "print(f'The RMSE is {np.round(rmse,3)}')"
   ]
  },
  {
   "cell_type": "markdown",
   "metadata": {},
   "source": [
    "It is impossible to succinctly show all of sklearn in a tutorial like this. There are a large range of models and metrics that are problem dependent. You will have to learn and experiment with different models and metrics to understand which are the best for your problem. The general framework of sklearn is the same as what is shown here. First do any preprocessing, then select a model, fit the model, make predictions about the model, and check the metric of choice. In the following notebook, I walk through a data science problem from beginning to end to demonstrate what this looks like in practice."
   ]
  },
  {
   "cell_type": "code",
   "execution_count": null,
   "metadata": {},
   "outputs": [],
   "source": []
  }
 ],
 "metadata": {
  "kernelspec": {
   "display_name": "Python 3",
   "language": "python",
   "name": "python3"
  },
  "language_info": {
   "codemirror_mode": {
    "name": "ipython",
    "version": 3
   },
   "file_extension": ".py",
   "mimetype": "text/x-python",
   "name": "python",
   "nbconvert_exporter": "python",
   "pygments_lexer": "ipython3",
   "version": "3.7.4"
  }
 },
 "nbformat": 4,
 "nbformat_minor": 2
}
