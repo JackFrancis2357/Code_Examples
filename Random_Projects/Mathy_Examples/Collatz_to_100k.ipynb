{
 "cells": [
  {
   "cell_type": "code",
   "execution_count": 2,
   "metadata": {},
   "outputs": [],
   "source": [
    "def collatz(n):\n",
    "    if n % 2 == 0:\n",
    "        return n/2\n",
    "    else:\n",
    "        return 3*n + 1\n",
    "\n",
    "longest_chain = 0\n",
    "longest_number = 0\n",
    "for i in range(1,100000):\n",
    "    initial_value = i\n",
    "    counter = 0\n",
    "    while i != 1:\n",
    "        i = collatz(i)\n",
    "        counter += 1\n",
    "    if counter > longest_chain:\n",
    "        longest_chain = counter\n",
    "        longest_number = initial_value"
   ]
  },
  {
   "cell_type": "code",
   "execution_count": 3,
   "metadata": {},
   "outputs": [
    {
     "name": "stdout",
     "output_type": "stream",
     "text": [
      "350 77031\n"
     ]
    }
   ],
   "source": [
    "print(longest_chain, longest_number)"
   ]
  },
  {
   "cell_type": "code",
   "execution_count": null,
   "metadata": {},
   "outputs": [],
   "source": []
  }
 ],
 "metadata": {
  "kernelspec": {
   "display_name": "Python 3",
   "language": "python",
   "name": "python3"
  },
  "language_info": {
   "codemirror_mode": {
    "name": "ipython",
    "version": 3
   },
   "file_extension": ".py",
   "mimetype": "text/x-python",
   "name": "python",
   "nbconvert_exporter": "python",
   "pygments_lexer": "ipython3",
   "version": "3.7.4"
  }
 },
 "nbformat": 4,
 "nbformat_minor": 2
}
