{
 "cells": [
  {
   "cell_type": "code",
   "execution_count": 31,
   "metadata": {},
   "outputs": [
    {
     "name": "stdout",
     "output_type": "stream",
     "text": [
      "Found a solution\n",
      "144 154\n"
     ]
    }
   ],
   "source": [
    "from itertools import permutations\n",
    "starting_combinations = list(permutations(range(1,1000), 2))\n",
    "\n",
    "for i in starting_combinations:\n",
    "    val_1 = i[0]\n",
    "    val_2 = i[0] + i[1]\n",
    "    cur_balance = val_1 + val_2\n",
    "    while cur_balance < 1000000:\n",
    "        new_balance = cur_balance + val_2\n",
    "        val_2 = cur_balance\n",
    "        cur_balance = new_balance\n",
    "    if cur_balance == 1000000:\n",
    "        print(\"Found a solution\")\n",
    "        print(i[0], i[1])\n",
    "        break"
   ]
  },
  {
   "cell_type": "code",
   "execution_count": null,
   "metadata": {},
   "outputs": [],
   "source": []
  }
 ],
 "metadata": {
  "kernelspec": {
   "display_name": "Python 3",
   "language": "python",
   "name": "python3"
  },
  "language_info": {
   "codemirror_mode": {
    "name": "ipython",
    "version": 3
   },
   "file_extension": ".py",
   "mimetype": "text/x-python",
   "name": "python",
   "nbconvert_exporter": "python",
   "pygments_lexer": "ipython3",
   "version": "3.7.4"
  }
 },
 "nbformat": 4,
 "nbformat_minor": 2
}
