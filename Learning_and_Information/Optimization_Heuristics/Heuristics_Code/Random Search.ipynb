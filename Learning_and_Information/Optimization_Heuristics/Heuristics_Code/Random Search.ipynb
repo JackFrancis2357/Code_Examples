{
 "cells": [
  {
   "cell_type": "markdown",
   "metadata": {},
   "source": [
    "## Random Search:"
   ]
  },
  {
   "cell_type": "code",
   "execution_count": 9,
   "metadata": {},
   "outputs": [
    {
     "name": "stdout",
     "output_type": "stream",
     "text": [
      "[[-5, 5], [-5, 5]]\n",
      "{'vector': [-1.945753797973555, 3.9888542507771003]}\n",
      "3.7859578423285143\n",
      "15.910958233942543\n",
      "19.69691607627106\n",
      " > iteration=1, best=19.696916\n",
      "Done. Best Solution:\n",
      "{'vector': [-1.945753797973555, 3.9888542507771003], 'cost': 19.69691607627106}\n"
     ]
    }
   ],
   "source": [
    "def objective_function(v):\n",
    "    return sum(map(lambda x: x ** 2, v))\n",
    "\n",
    "\n",
    "def random_vector(min_max):\n",
    "    import random\n",
    "    #print random.random()\n",
    "    return list(map(lambda x: x[0] + (x[1] - x[0]) * random.random(), min_max))\n",
    "\n",
    "\n",
    "def search(search_space, max_iteration):\n",
    "    best = None\n",
    "    for iteration in range(0, max_iteration):\n",
    "        candidate = {'vector': random_vector(search_space)}\n",
    "        print(candidate)\n",
    "        print(candidate['vector'][0]**2)\n",
    "        print(candidate['vector'][1]**2)\n",
    "        print(sum(map(lambda x: x ** 2, candidate['vector'])))\n",
    "        candidate['cost'] = objective_function(candidate['vector'])\n",
    "        if best is None or candidate['cost'] < best['cost']:\n",
    "            best = candidate\n",
    "        print(' > iteration=%d, best=%f' % (iteration + 1, best['cost']))\n",
    "    return best\n",
    "\n",
    "\n",
    "def main():\n",
    "    #\n",
    "    problem_size = 2\n",
    "    search_space = [[-5, 5]] * problem_size\n",
    "    print(search_space)\n",
    "    #\n",
    "    max_iteration = 1\n",
    "    #\n",
    "    best = search(search_space, max_iteration)\n",
    "    print('Done. Best Solution:')\n",
    "    print(best)\n",
    "\n",
    "if __name__ == \"__main__\":\n",
    "    main()"
   ]
  },
  {
   "cell_type": "code",
   "execution_count": null,
   "metadata": {},
   "outputs": [],
   "source": []
  }
 ],
 "metadata": {
  "kernelspec": {
   "display_name": "Python 3",
   "language": "python",
   "name": "python3"
  },
  "language_info": {
   "codemirror_mode": {
    "name": "ipython",
    "version": 3
   },
   "file_extension": ".py",
   "mimetype": "text/x-python",
   "name": "python",
   "nbconvert_exporter": "python",
   "pygments_lexer": "ipython3",
   "version": "3.7.4"
  }
 },
 "nbformat": 4,
 "nbformat_minor": 2
}
